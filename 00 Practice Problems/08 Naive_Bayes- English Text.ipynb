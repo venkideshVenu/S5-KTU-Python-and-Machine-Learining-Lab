{
 "cells": [
  {
   "cell_type": "markdown",
   "id": "1218b6e5-6b38-455d-bb29-110dec0dc237",
   "metadata": {},
   "source": [
    "# Practice Problem 8"
   ]
  },
  {
   "cell_type": "markdown",
   "id": "93ff286c-cf48-498b-becf-d49553b70211",
   "metadata": {},
   "source": [
    "##  Implement Naïve Bayes theorem to classify the English text"
   ]
  },
  {
   "cell_type": "code",
   "execution_count": null,
   "id": "6a16a1cb-dd5f-483f-8ab1-61b6e30b78f4",
   "metadata": {},
   "outputs": [],
   "source": [
    "pip install scikit-learn"
   ]
  },
  {
   "cell_type": "code",
   "execution_count": 6,
   "id": "1d07f83a-9746-435b-9695-86714abac25b",
   "metadata": {},
   "outputs": [
    {
     "name": "stdout",
     "output_type": "stream",
     "text": [
      "Accuracy: 31.33%\n",
      "\n",
      "Classification Report:\n",
      "                          precision    recall  f1-score   support\n",
      "\n",
      "             alt.atheism       0.25      0.09      0.13        11\n",
      "           comp.graphics       0.40      0.25      0.31         8\n",
      " comp.os.ms-windows.misc       0.27      0.40      0.32        10\n",
      "comp.sys.ibm.pc.hardware       0.42      0.50      0.45        10\n",
      "   comp.sys.mac.hardware       0.21      0.60      0.32         5\n",
      "          comp.windows.x       0.43      0.38      0.40         8\n",
      "            misc.forsale       0.67      0.80      0.73         5\n",
      "               rec.autos       0.50      0.25      0.33         8\n",
      "         rec.motorcycles       0.50      0.12      0.20         8\n",
      "      rec.sport.baseball       0.50      0.14      0.22         7\n",
      "        rec.sport.hockey       0.83      0.45      0.59        11\n",
      "               sci.crypt       0.25      0.12      0.17         8\n",
      "         sci.electronics       0.40      0.33      0.36         6\n",
      "                 sci.med       1.00      0.29      0.44         7\n",
      "               sci.space       0.33      0.12      0.18         8\n",
      "  soc.religion.christian       0.09      0.80      0.17         5\n",
      "      talk.politics.guns       0.33      0.17      0.22         6\n",
      "   talk.politics.mideast       0.50      0.67      0.57         6\n",
      "      talk.politics.misc       0.25      0.25      0.25         4\n",
      "      talk.religion.misc       0.00      0.00      0.00         9\n",
      "\n",
      "                accuracy                           0.31       150\n",
      "               macro avg       0.41      0.34      0.32       150\n",
      "            weighted avg       0.41      0.31      0.31       150\n",
      "\n",
      "\n",
      "Confusion Matrix:\n",
      "[[ 1  0  0  0  0  0  0  0  0  0  0  0  0  0  0 10  0  0  0  0]\n",
      " [ 0  2  3  2  0  0  1  0  0  0  0  0  0  0  0  0  0  0  0  0]\n",
      " [ 0  0  4  2  1  2  0  0  0  0  0  0  1  0  0  0  0  0  0  0]\n",
      " [ 0  2  2  5  1  0  0  0  0  0  0  0  0  0  0  0  0  0  0  0]\n",
      " [ 0  0  1  0  3  0  0  0  0  0  0  0  0  0  0  1  0  0  0  0]\n",
      " [ 0  0  1  0  3  3  0  0  0  0  1  0  0  0  0  0  0  0  0  0]\n",
      " [ 0  0  0  0  0  1  4  0  0  0  0  0  0  0  0  0  0  0  0  0]\n",
      " [ 0  0  1  0  1  0  0  2  0  0  0  0  2  0  0  2  0  0  0  0]\n",
      " [ 1  1  0  0  1  0  0  1  1  0  0  2  0  0  0  1  0  0  0  0]\n",
      " [ 0  0  0  1  0  0  1  0  0  1  0  0  0  0  1  2  0  1  0  0]\n",
      " [ 1  0  0  0  0  0  0  0  0  1  5  0  0  0  0  2  1  0  0  1]\n",
      " [ 0  0  0  2  1  1  0  0  0  0  0  1  0  0  0  3  0  0  0  0]\n",
      " [ 0  0  2  0  1  0  0  1  0  0  0  0  2  0  0  0  0  0  0  0]\n",
      " [ 0  0  1  0  0  0  0  0  1  0  0  0  0  2  0  3  0  0  0  0]\n",
      " [ 0  0  0  0  1  0  0  0  0  0  0  0  0  0  1  5  0  0  1  0]\n",
      " [ 1  0  0  0  0  0  0  0  0  0  0  0  0  0  0  4  0  0  0  0]\n",
      " [ 0  0  0  0  0  0  0  0  0  0  0  0  0  0  0  2  1  2  1  0]\n",
      " [ 0  0  0  0  0  0  0  0  0  0  0  0  0  0  0  2  0  4  0  0]\n",
      " [ 0  0  0  0  0  0  0  0  0  0  0  1  0  0  0  1  1  0  1  0]\n",
      " [ 0  0  0  0  1  0  0  0  0  0  0  0  0  0  1  5  0  1  1  0]]\n"
     ]
    }
   ],
   "source": [
    "import numpy as np\n",
    "from sklearn.datasets import fetch_20newsgroups\n",
    "from sklearn.feature_extraction.text import CountVectorizer\n",
    "from sklearn.model_selection import train_test_split\n",
    "from sklearn.naive_bayes import MultinomialNB\n",
    "from sklearn.metrics import accuracy_score, classification_report, confusion_matrix\n",
    "\n",
    "# Load the 20 Newsgroups dataset (fetch the full dataset first)\n",
    "newsgroups = fetch_20newsgroups(subset='all', remove=('headers', 'footers', 'quotes'))\n",
    "\n",
    "# Take a smaller subset of the dataset for quicker execution\n",
    "X = newsgroups.data[:500]  # Use the first 500 documents\n",
    "y = newsgroups.target[:500]  # Corresponding labels\n",
    "\n",
    "# Convert text data into numerical format using CountVectorizer\n",
    "vectorizer = CountVectorizer(stop_words='english')\n",
    "X_vectorized = vectorizer.fit_transform(X)\n",
    "\n",
    "# Split the dataset into training and testing sets\n",
    "X_train, X_test, y_train, y_test = train_test_split(X_vectorized, y, test_size=0.3, random_state=42)\n",
    "\n",
    "# Train the Naïve Bayes classifier\n",
    "model = MultinomialNB()\n",
    "model.fit(X_train, y_train)\n",
    "\n",
    "# Make predictions\n",
    "y_pred = model.predict(X_test)\n",
    "\n",
    "# Evaluate the classifier\n",
    "accuracy = accuracy_score(y_test, y_pred)\n",
    "print(f\"Accuracy: {accuracy * 100:.2f}%\")\n",
    "print(\"\\nClassification Report:\")\n",
    "print(classification_report(y_test, y_pred, target_names=newsgroups.target_names))\n",
    "print(\"\\nConfusion Matrix:\")\n",
    "print(confusion_matrix(y_test, y_pred))\n"
   ]
  },
  {
   "cell_type": "code",
   "execution_count": null,
   "id": "bfa1d11a-b02f-423f-a729-57a8fb35e2a6",
   "metadata": {},
   "outputs": [],
   "source": []
  }
 ],
 "metadata": {
  "kernelspec": {
   "display_name": "Python 3 (ipykernel)",
   "language": "python",
   "name": "python3"
  },
  "language_info": {
   "codemirror_mode": {
    "name": "ipython",
    "version": 3
   },
   "file_extension": ".py",
   "mimetype": "text/x-python",
   "name": "python",
   "nbconvert_exporter": "python",
   "pygments_lexer": "ipython3",
   "version": "3.12.5"
  }
 },
 "nbformat": 4,
 "nbformat_minor": 5
}
