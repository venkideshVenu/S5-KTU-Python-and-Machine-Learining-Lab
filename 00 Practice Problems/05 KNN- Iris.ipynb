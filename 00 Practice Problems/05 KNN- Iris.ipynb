{
 "cells": [
  {
   "cell_type": "markdown",
   "id": "a90e52ca-7e3f-416d-8e36-4c78c9ec9591",
   "metadata": {},
   "source": [
    "# Practice Problem 05"
   ]
  },
  {
   "cell_type": "markdown",
   "id": "eca900f6-0d57-42b7-822b-62cca44d3047",
   "metadata": {},
   "source": [
    "## Write a program to implement k-Nearest Neighbor algorithm to classify the iris data set. Print both correct and wrong predictions."
   ]
  },
  {
   "cell_type": "code",
   "execution_count": 1,
   "id": "98408a25-e0de-4a9f-ae14-4ea62c7a9a0a",
   "metadata": {},
   "outputs": [
    {
     "name": "stdout",
     "output_type": "stream",
     "text": [
      "   sepal length (cm)  sepal width (cm)  petal length (cm)  petal width (cm)  \\\n",
      "0                5.1               3.5                1.4               0.2   \n",
      "1                4.9               3.0                1.4               0.2   \n",
      "2                4.7               3.2                1.3               0.2   \n",
      "3                4.6               3.1                1.5               0.2   \n",
      "4                5.0               3.6                1.4               0.2   \n",
      "\n",
      "   target  \n",
      "0       0  \n",
      "1       0  \n",
      "2       0  \n",
      "3       0  \n",
      "4       0  \n",
      "Accuracy: 1.00\n",
      "\n",
      "Predictions:\n",
      "Correct: Actual=versicolor, Predicted=versicolor\n",
      "Correct: Actual=setosa, Predicted=setosa\n",
      "Correct: Actual=virginica, Predicted=virginica\n",
      "Correct: Actual=versicolor, Predicted=versicolor\n",
      "Correct: Actual=versicolor, Predicted=versicolor\n",
      "Correct: Actual=setosa, Predicted=setosa\n",
      "Correct: Actual=versicolor, Predicted=versicolor\n",
      "Correct: Actual=virginica, Predicted=virginica\n",
      "Correct: Actual=versicolor, Predicted=versicolor\n",
      "Correct: Actual=versicolor, Predicted=versicolor\n",
      "Correct: Actual=virginica, Predicted=virginica\n",
      "Correct: Actual=setosa, Predicted=setosa\n",
      "Correct: Actual=setosa, Predicted=setosa\n",
      "Correct: Actual=setosa, Predicted=setosa\n",
      "Correct: Actual=setosa, Predicted=setosa\n",
      "Correct: Actual=versicolor, Predicted=versicolor\n",
      "Correct: Actual=virginica, Predicted=virginica\n",
      "Correct: Actual=versicolor, Predicted=versicolor\n",
      "Correct: Actual=versicolor, Predicted=versicolor\n",
      "Correct: Actual=virginica, Predicted=virginica\n",
      "Correct: Actual=setosa, Predicted=setosa\n",
      "Correct: Actual=virginica, Predicted=virginica\n",
      "Correct: Actual=setosa, Predicted=setosa\n",
      "Correct: Actual=virginica, Predicted=virginica\n",
      "Correct: Actual=virginica, Predicted=virginica\n",
      "Correct: Actual=virginica, Predicted=virginica\n",
      "Correct: Actual=virginica, Predicted=virginica\n",
      "Correct: Actual=virginica, Predicted=virginica\n",
      "Correct: Actual=setosa, Predicted=setosa\n",
      "Correct: Actual=setosa, Predicted=setosa\n"
     ]
    }
   ],
   "source": [
    "import pandas as pd\n",
    "import numpy as np\n",
    "from sklearn.datasets import load_iris\n",
    "from sklearn.model_selection import train_test_split\n",
    "from sklearn.neighbors import KNeighborsClassifier\n",
    "from sklearn.metrics import accuracy_score\n",
    "\n",
    "# Load the Iris dataset\n",
    "iris = load_iris()\n",
    "X = iris.data\n",
    "y = iris.target\n",
    "\n",
    "# Convert to DataFrame for better visualization (optional)\n",
    "df = pd.DataFrame(data=X, columns=iris.feature_names)\n",
    "df['target'] = y\n",
    "print(df.head())\n",
    "\n",
    "# Split the dataset into training and testing sets\n",
    "X_train, X_test, y_train, y_test = train_test_split(X, y, test_size=0.2, random_state=42)\n",
    "\n",
    "# Initialize the k-NN classifier with k=3\n",
    "k = 3\n",
    "knn_classifier = KNeighborsClassifier(n_neighbors=k)\n",
    "\n",
    "# Fit the model on the training data\n",
    "knn_classifier.fit(X_train, y_train)\n",
    "\n",
    "# Make predictions on the test set\n",
    "y_pred = knn_classifier.predict(X_test)\n",
    "\n",
    "# Evaluate the model\n",
    "accuracy = accuracy_score(y_test, y_pred)\n",
    "print(f'Accuracy: {accuracy:.2f}')\n",
    "\n",
    "# Print correct and wrong predictions\n",
    "print(\"\\nPredictions:\")\n",
    "for i in range(len(y_test)):\n",
    "    if y_pred[i] == y_test[i]:\n",
    "        print(f\"Correct: Actual={iris.target_names[y_test[i]]}, Predicted={iris.target_names[y_pred[i]]}\")\n",
    "    else:\n",
    "        print(f\"Wrong: Actual={iris.target_names[y_test[i]]}, Predicted={iris.target_names[y_pred[i]]}\")\n"
   ]
  },
  {
   "cell_type": "code",
   "execution_count": null,
   "id": "c58bb84b-88e3-4eb8-aeed-b363beecb705",
   "metadata": {},
   "outputs": [],
   "source": []
  }
 ],
 "metadata": {
  "kernelspec": {
   "display_name": "Python 3 (ipykernel)",
   "language": "python",
   "name": "python3"
  },
  "language_info": {
   "codemirror_mode": {
    "name": "ipython",
    "version": 3
   },
   "file_extension": ".py",
   "mimetype": "text/x-python",
   "name": "python",
   "nbconvert_exporter": "python",
   "pygments_lexer": "ipython3",
   "version": "3.12.5"
  }
 },
 "nbformat": 4,
 "nbformat_minor": 5
}
