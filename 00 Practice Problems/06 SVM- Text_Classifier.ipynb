{
 "cells": [
  {
   "cell_type": "markdown",
   "id": "28ed8c9a-a15b-4afb-b194-eaff85295cb3",
   "metadata": {},
   "source": [
    "# Practice Problem 06"
   ]
  },
  {
   "cell_type": "markdown",
   "id": "3c4a376c-9657-4578-92c6-7d36e73b2e6a",
   "metadata": {},
   "source": [
    "##  Program to implement text classification using Support vector machine"
   ]
  },
  {
   "cell_type": "code",
   "execution_count": 1,
   "id": "2d4ed24a-0c7b-420c-9fcd-f0b3e19539d0",
   "metadata": {},
   "outputs": [
    {
     "name": "stdout",
     "output_type": "stream",
     "text": [
      "Accuracy: 0.50\n",
      "              precision    recall  f1-score   support\n",
      "\n",
      " Programming       0.00      0.00      0.00         1\n",
      "      Sports       0.50      1.00      0.67         1\n",
      "\n",
      "    accuracy                           0.50         2\n",
      "   macro avg       0.25      0.50      0.33         2\n",
      "weighted avg       0.25      0.50      0.33         2\n",
      "\n"
     ]
    },
    {
     "name": "stderr",
     "output_type": "stream",
     "text": [
      "C:\\Users\\venki\\AppData\\Local\\Programs\\Python\\Python312\\Lib\\site-packages\\sklearn\\metrics\\_classification.py:1531: UndefinedMetricWarning: Precision is ill-defined and being set to 0.0 in labels with no predicted samples. Use `zero_division` parameter to control this behavior.\n",
      "  _warn_prf(average, modifier, f\"{metric.capitalize()} is\", len(result))\n",
      "C:\\Users\\venki\\AppData\\Local\\Programs\\Python\\Python312\\Lib\\site-packages\\sklearn\\metrics\\_classification.py:1531: UndefinedMetricWarning: Precision is ill-defined and being set to 0.0 in labels with no predicted samples. Use `zero_division` parameter to control this behavior.\n",
      "  _warn_prf(average, modifier, f\"{metric.capitalize()} is\", len(result))\n",
      "C:\\Users\\venki\\AppData\\Local\\Programs\\Python\\Python312\\Lib\\site-packages\\sklearn\\metrics\\_classification.py:1531: UndefinedMetricWarning: Precision is ill-defined and being set to 0.0 in labels with no predicted samples. Use `zero_division` parameter to control this behavior.\n",
      "  _warn_prf(average, modifier, f\"{metric.capitalize()} is\", len(result))\n"
     ]
    }
   ],
   "source": [
    "import pandas as pd\n",
    "import numpy as np\n",
    "from sklearn.model_selection import train_test_split\n",
    "from sklearn.feature_extraction.text import TfidfVectorizer\n",
    "from sklearn.svm import SVC\n",
    "from sklearn.metrics import classification_report, accuracy_score\n",
    "\n",
    "# Sample dataset\n",
    "data = {\n",
    "    'text': [\n",
    "        'I love programming in Python',\n",
    "        'Java is a versatile language',\n",
    "        'Python and Java are popular programming languages',\n",
    "        'I enjoy hiking in the mountains',\n",
    "        'Hiking is a great outdoor activity',\n",
    "        'I prefer indoor activities like reading',\n",
    "        'Reading books expands your knowledge',\n",
    "        'Football is a popular sport',\n",
    "        'I like to play basketball on weekends',\n",
    "        'Sports are a great way to stay fit'\n",
    "    ],\n",
    "    'label': [\n",
    "        'Programming',\n",
    "        'Programming',\n",
    "        'Programming',\n",
    "        'Hiking',\n",
    "        'Hiking',\n",
    "        'Reading',\n",
    "        'Reading',\n",
    "        'Sports',\n",
    "        'Sports',\n",
    "        'Sports'\n",
    "    ]\n",
    "}\n",
    "\n",
    "# Create a DataFrame\n",
    "df = pd.DataFrame(data)\n",
    "\n",
    "# Split the dataset into features and labels\n",
    "X = df['text']\n",
    "y = df['label']\n",
    "\n",
    "# Split the dataset into training and testing sets\n",
    "X_train, X_test, y_train, y_test = train_test_split(X, y, test_size=0.2, random_state=42)\n",
    "\n",
    "# Vectorize the text data using TF-IDF\n",
    "vectorizer = TfidfVectorizer()\n",
    "X_train_tfidf = vectorizer.fit_transform(X_train)\n",
    "X_test_tfidf = vectorizer.transform(X_test)\n",
    "\n",
    "# Initialize the SVM classifier\n",
    "svm_classifier = SVC(kernel='linear')  # You can choose other kernels like 'rbf' or 'poly'\n",
    "\n",
    "# Fit the model on the training data\n",
    "svm_classifier.fit(X_train_tfidf, y_train)\n",
    "\n",
    "# Make predictions on the test set\n",
    "y_pred = svm_classifier.predict(X_test_tfidf)\n",
    "\n",
    "# Evaluate the model\n",
    "accuracy = accuracy_score(y_test, y_pred)\n",
    "print(f'Accuracy: {accuracy:.2f}')\n",
    "print(classification_report(y_test, y_pred))\n"
   ]
  },
  {
   "cell_type": "code",
   "execution_count": null,
   "id": "e9cb5a26-a750-48ab-b267-20187c907911",
   "metadata": {},
   "outputs": [],
   "source": []
  }
 ],
 "metadata": {
  "kernelspec": {
   "display_name": "Python 3 (ipykernel)",
   "language": "python",
   "name": "python3"
  },
  "language_info": {
   "codemirror_mode": {
    "name": "ipython",
    "version": 3
   },
   "file_extension": ".py",
   "mimetype": "text/x-python",
   "name": "python",
   "nbconvert_exporter": "python",
   "pygments_lexer": "ipython3",
   "version": "3.12.5"
  }
 },
 "nbformat": 4,
 "nbformat_minor": 5
}
