{
 "cells": [
  {
   "cell_type": "markdown",
   "id": "aef41bfb-a8ad-427f-9dea-00314cce540e",
   "metadata": {},
   "source": [
    "## Write a program to construct a Bayesian network considering medical data. Use this modelto demonstrate the diagnosis of heart patients using the standard Heart Disease Dataset"
   ]
  },
  {
   "cell_type": "code",
   "execution_count": null,
   "id": "6128bd93-6605-45ce-85a7-163e08f5070b",
   "metadata": {},
   "outputs": [],
   "source": [
    "pip install pgmpy"
   ]
  },
  {
   "cell_type": "code",
   "execution_count": 2,
   "id": "82bf6c4c-0c2e-4d27-b7ff-d467dd23cccd",
   "metadata": {},
   "outputs": [
    {
     "ename": "ModuleNotFoundError",
     "evalue": "No module named 'pgmpy'",
     "output_type": "error",
     "traceback": [
      "\u001b[1;31m---------------------------------------------------------------------------\u001b[0m",
      "\u001b[1;31mModuleNotFoundError\u001b[0m                       Traceback (most recent call last)",
      "Cell \u001b[1;32mIn[2], line 2\u001b[0m\n\u001b[0;32m      1\u001b[0m \u001b[38;5;28;01mimport\u001b[39;00m \u001b[38;5;21;01mpandas\u001b[39;00m \u001b[38;5;28;01mas\u001b[39;00m \u001b[38;5;21;01mpd\u001b[39;00m\n\u001b[1;32m----> 2\u001b[0m \u001b[38;5;28;01mfrom\u001b[39;00m \u001b[38;5;21;01mpgmpy\u001b[39;00m\u001b[38;5;21;01m.\u001b[39;00m\u001b[38;5;21;01mmodels\u001b[39;00m \u001b[38;5;28;01mimport\u001b[39;00m BayesianNetwork\n\u001b[0;32m      3\u001b[0m \u001b[38;5;28;01mfrom\u001b[39;00m \u001b[38;5;21;01mpgmpy\u001b[39;00m\u001b[38;5;21;01m.\u001b[39;00m\u001b[38;5;21;01mestimators\u001b[39;00m \u001b[38;5;28;01mimport\u001b[39;00m MaximumLikelihoodEstimator\n\u001b[0;32m      4\u001b[0m \u001b[38;5;28;01mfrom\u001b[39;00m \u001b[38;5;21;01mpgmpy\u001b[39;00m\u001b[38;5;21;01m.\u001b[39;00m\u001b[38;5;21;01minference\u001b[39;00m \u001b[38;5;28;01mimport\u001b[39;00m VariableElimination\n",
      "\u001b[1;31mModuleNotFoundError\u001b[0m: No module named 'pgmpy'"
     ]
    }
   ],
   "source": [
    "import pandas as pd\n",
    "from pgmpy.models import BayesianNetwork\n",
    "from pgmpy.estimators import MaximumLikelihoodEstimator\n",
    "from pgmpy.inference import VariableElimination\n",
    "\n",
    "# Load the heart disease dataset from CSV\n",
    "data = pd.read_csv('../00 Files_Datasets/Heart_Disease.txt')\n",
    "\n",
    "# Preprocessing: Replace any missing values with the median or mode\n",
    "data.fillna(data.median(), inplace=True)\n",
    "\n",
    "# Define the structure of the Bayesian Network (edges between variables)\n",
    "model = BayesianNetwork([\n",
    "    ('age', 'target'), \n",
    "    ('sex', 'target'), \n",
    "    ('cp', 'target'), \n",
    "    ('trestbps', 'target'),\n",
    "    ('chol', 'target'),\n",
    "    ('fbs', 'target'),\n",
    "    ('restecg', 'target'),\n",
    "    ('thalach', 'target'),\n",
    "    ('exang', 'target'),\n",
    "    ('oldpeak', 'target'),\n",
    "    ('slope', 'target'),\n",
    "    ('ca', 'target'),\n",
    "    ('thal', 'target')\n",
    "])\n",
    "\n",
    "# Train the model using Maximum Likelihood Estimator\n",
    "model.fit(data, estimator=MaximumLikelihoodEstimator)\n",
    "\n",
    "# Perform inference on the model\n",
    "inference = VariableElimination(model)\n",
    "\n",
    "# Example query: What is the probability of heart disease given certain conditions?\n",
    "query_result = inference.query(variables=['target'], evidence={\n",
    "    'age': 55, \n",
    "    'sex': 1, \n",
    "    'cp': 2, \n",
    "    'trestbps': 140, \n",
    "    'chol': 220, \n",
    "    'thalach': 150, \n",
    "    'exang': 0, \n",
    "    'oldpeak': 1.5\n",
    "})\n",
    "\n",
    "# Display the result of the query (diagnosis)\n",
    "print(query_result)\n"
   ]
  },
  {
   "cell_type": "code",
   "execution_count": null,
   "id": "b85aff9d-fdf0-44ae-b908-83daf47f7070",
   "metadata": {},
   "outputs": [],
   "source": []
  }
 ],
 "metadata": {
  "kernelspec": {
   "display_name": "Python 3 (ipykernel)",
   "language": "python",
   "name": "python3"
  },
  "language_info": {
   "codemirror_mode": {
    "name": "ipython",
    "version": 3
   },
   "file_extension": ".py",
   "mimetype": "text/x-python",
   "name": "python",
   "nbconvert_exporter": "python",
   "pygments_lexer": "ipython3",
   "version": "3.12.5"
  }
 },
 "nbformat": 4,
 "nbformat_minor": 5
}
