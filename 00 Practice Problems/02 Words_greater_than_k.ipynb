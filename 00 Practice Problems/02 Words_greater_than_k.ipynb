{
 "cells": [
  {
   "cell_type": "markdown",
   "id": "b40819f5-f80c-4490-a9c8-817a3554d883",
   "metadata": {},
   "source": [
    "## Write a program to find words which are greater than a given length k"
   ]
  },
  {
   "cell_type": "code",
   "execution_count": 11,
   "id": "55cf18da-972a-4e9c-adaf-a8c97c1a8d5e",
   "metadata": {},
   "outputs": [
    {
     "name": "stdin",
     "output_type": "stream",
     "text": [
      "Enter the value of k (length):  15\n"
     ]
    },
    {
     "name": "stdout",
     "output_type": "stream",
     "text": [
      "**Introduction**\n",
      "object-oriented,\n",
      "**Cross-Platform\n",
      "Compatibility**:\n",
      "**Object-Oriented\n",
      "**Applications**\n",
      "microcontrollers\n"
     ]
    }
   ],
   "source": [
    "with open('../00 Files_Datasets/text_file.txt', 'r') as file:\n",
    "    words = file.read().split()\n",
    "\n",
    "k = int(input(\"Enter the value of k (length): \"))\n",
    "for word in words:\n",
    "    if len(word)>k:\n",
    "        print(word)"
   ]
  },
  {
   "cell_type": "code",
   "execution_count": null,
   "id": "614cd806-11a4-4e33-850a-2cee9e4ed8ec",
   "metadata": {},
   "outputs": [],
   "source": []
  }
 ],
 "metadata": {
  "kernelspec": {
   "display_name": "Python 3 (ipykernel)",
   "language": "python",
   "name": "python3"
  },
  "language_info": {
   "codemirror_mode": {
    "name": "ipython",
    "version": 3
   },
   "file_extension": ".py",
   "mimetype": "text/x-python",
   "name": "python",
   "nbconvert_exporter": "python",
   "pygments_lexer": "ipython3",
   "version": "3.12.5"
  }
 },
 "nbformat": 4,
 "nbformat_minor": 5
}
