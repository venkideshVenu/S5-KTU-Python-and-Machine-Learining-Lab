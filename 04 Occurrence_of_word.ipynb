{
 "cells": [
  {
   "cell_type": "markdown",
   "id": "45b1e6fb-80cf-46ec-b99c-2b9ad0a61b04",
   "metadata": {},
   "source": [
    "## 4. Design a Python program to count the occurrences of each word in a given sentence."
   ]
  },
  {
   "cell_type": "code",
   "execution_count": 2,
   "id": "d6730792-73d7-4778-bdbe-6a60620867fe",
   "metadata": {},
   "outputs": [
    {
     "name": "stdin",
     "output_type": "stream",
     "text": [
      "Enter a Sentence :  Design a Python program to count the occurrences of each word in a given sentence\n"
     ]
    },
    {
     "name": "stdout",
     "output_type": "stream",
     "text": [
      "Word    Occurence\n",
      "-----------------\n",
      "design     1          \n",
      "a          2          \n",
      "python     1          \n",
      "program    1          \n",
      "to         1          \n",
      "count      1          \n",
      "the        1          \n",
      "occurrences 1          \n",
      "of         1          \n",
      "each       1          \n",
      "word       1          \n",
      "in         1          \n",
      "given      1          \n",
      "sentence   1          \n"
     ]
    }
   ],
   "source": [
    "string = input('Enter a Sentence : ')\n",
    "string = string.lower()\n",
    "words = string.split()\n",
    "wordCount = {}\n",
    "\n",
    "for i in words:\n",
    "    if i in wordCount:\n",
    "        wordCount[i] += 1\n",
    "    else:\n",
    "        wordCount[i] = 1\n",
    "print('Word    Occurence')\n",
    "print('-----------------')\n",
    "for key, value in wordCount.items():\n",
    "    print(\"{:<10} {:<10} \".format(key, value))"
   ]
  },
  {
   "cell_type": "code",
   "execution_count": null,
   "id": "bebedb03-0fa3-4aec-ab57-03f10104a9a2",
   "metadata": {},
   "outputs": [],
   "source": []
  }
 ],
 "metadata": {
  "kernelspec": {
   "display_name": "Python 3 (ipykernel)",
   "language": "python",
   "name": "python3"
  },
  "language_info": {
   "codemirror_mode": {
    "name": "ipython",
    "version": 3
   },
   "file_extension": ".py",
   "mimetype": "text/x-python",
   "name": "python",
   "nbconvert_exporter": "python",
   "pygments_lexer": "ipython3",
   "version": "3.12.5"
  }
 },
 "nbformat": 4,
 "nbformat_minor": 5
}
