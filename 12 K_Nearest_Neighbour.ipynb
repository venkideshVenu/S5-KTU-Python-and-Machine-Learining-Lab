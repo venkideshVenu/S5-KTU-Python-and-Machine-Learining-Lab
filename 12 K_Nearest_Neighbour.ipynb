{
 "cells": [
  {
   "cell_type": "markdown",
   "id": "93a593b7-2c11-4152-be5f-2c18e9bb8c8d",
   "metadata": {},
   "source": [
    "# Experiment 12"
   ]
  },
  {
   "cell_type": "markdown",
   "id": "d002e01f-91b2-497e-9fdd-0e69c0d2598a",
   "metadata": {},
   "source": [
    "##  Implement K-Nearest Neighbor algorithm to classify any dataset."
   ]
  },
  {
   "cell_type": "code",
   "execution_count": 3,
   "id": "4231db7e-ed1b-40c9-bde7-e61370fec547",
   "metadata": {},
   "outputs": [
    {
     "name": "stdout",
     "output_type": "stream",
     "text": [
      "KNN classification accuracy with k=3: 100.00%\n"
     ]
    }
   ],
   "source": [
    "import numpy as np\n",
    "from sklearn import datasets\n",
    "from sklearn.model_selection import train_test_split\n",
    "from sklearn.metrics import accuracy_score\n",
    "from collections import Counter\n",
    "\n",
    "# Load the Iris dataset\n",
    "iris = datasets.load_iris()\n",
    "X = iris.data\n",
    "y = iris.target\n",
    "\n",
    "# Split the dataset into training and testing sets\n",
    "X_train, X_test, y_train, y_test = train_test_split(X, y, test_size=0.3, random_state=42)\n",
    "\n",
    "# Define the K-Nearest Neighbors function\n",
    "def euclidean_distance(point1, point2):\n",
    "    return np.sqrt(np.sum((point1 - point2) ** 2))\n",
    "\n",
    "def knn(X_train, y_train, X_test, k=3):\n",
    "    predictions = []\n",
    "    for test_point in X_test:\n",
    "        # Calculate distances from the test point to all training points\n",
    "        distances = [euclidean_distance(test_point, x_train) for x_train in X_train]\n",
    "        # Get the indices of the k nearest neighbors\n",
    "        k_indices = np.argsort(distances)[:k]\n",
    "        # Get the labels of the k nearest neighbors\n",
    "        k_nearest_labels = [y_train[i] for i in k_indices]\n",
    "        # Determine the most common label (class) among the neighbors\n",
    "        most_common = Counter(k_nearest_labels).most_common(1)[0][0]\n",
    "        predictions.append(most_common)\n",
    "    return predictions\n",
    "\n",
    "# Predict using our KNN function\n",
    "k = 3\n",
    "y_pred = knn(X_train, y_train, X_test, k)\n",
    "\n",
    "# Calculate accuracy\n",
    "accuracy = accuracy_score(y_test, y_pred)\n",
    "print(f\"KNN classification accuracy with k={k}: {accuracy * 100:.2f}%\")\n"
   ]
  },
  {
   "cell_type": "code",
   "execution_count": null,
   "id": "d7ce0c0c-c794-45a0-8013-d8571aba1792",
   "metadata": {},
   "outputs": [],
   "source": []
  }
 ],
 "metadata": {
  "kernelspec": {
   "display_name": "Python 3 (ipykernel)",
   "language": "python",
   "name": "python3"
  },
  "language_info": {
   "codemirror_mode": {
    "name": "ipython",
    "version": 3
   },
   "file_extension": ".py",
   "mimetype": "text/x-python",
   "name": "python",
   "nbconvert_exporter": "python",
   "pygments_lexer": "ipython3",
   "version": "3.12.5"
  }
 },
 "nbformat": 4,
 "nbformat_minor": 5
}
