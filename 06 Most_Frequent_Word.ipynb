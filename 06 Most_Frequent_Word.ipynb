{
 "cells": [
  {
   "cell_type": "markdown",
   "id": "3ef7b1a4-e41b-42fa-9ed9-277b6e7262d0",
   "metadata": {},
   "source": [
    "# Experiment 6"
   ]
  },
  {
   "cell_type": "markdown",
   "id": "3439716d-0ee0-4b9a-9e41-145f58b769a3",
   "metadata": {},
   "source": [
    "## Write a Python program to find the most frequent words in a text  file"
   ]
  },
  {
   "cell_type": "code",
   "execution_count": 7,
   "id": "39b333ac-ea39-48e7-a649-601be340588b",
   "metadata": {},
   "outputs": [
    {
     "name": "stdout",
     "output_type": "stream",
     "text": [
      "Words with the highest frequency: {'and': 73}\n"
     ]
    }
   ],
   "source": [
    "import string\n",
    "\n",
    "# Try to open and read the file with error handling\n",
    "try:\n",
    "    with open('./00 Lab_Files/text_file.txt', 'r') as file:\n",
    "        text = file.read()\n",
    "except FileNotFoundError:\n",
    "    print(\"Error: File not found.\")\n",
    "    text = \"\"\n",
    "except Exception as e:\n",
    "    print(f\"An error occurred: {e}\")\n",
    "    text = \"\"\n",
    "\n",
    "# Initialize dictionaries to hold word counts and final result\n",
    "word_count = {}\n",
    "max_frequency_words = {}\n",
    "\n",
    "# Split the text into words, normalize to lowercase, and remove punctuation\n",
    "words = text.lower().split()\n",
    "words = [word.strip(string.punctuation) for word in words]\n",
    "\n",
    "# Count the frequency of each word\n",
    "for word in words:\n",
    "    if word in word_count:\n",
    "        word_count[word] += 1\n",
    "    else:\n",
    "        word_count[word] = 1\n",
    "\n",
    "# Find the maximum frequency\n",
    "if word_count:\n",
    "    max_frequency = max(word_count.values())\n",
    "\n",
    "    # Identify words with the maximum frequency\n",
    "    for word, frequency in word_count.items():\n",
    "        if frequency == max_frequency:\n",
    "            max_frequency_words[word] = max_frequency\n",
    "\n",
    "# Print the words with the maximum frequency\n",
    "print(\"Words with the highest frequency:\", max_frequency_words)\n"
   ]
  },
  {
   "cell_type": "code",
   "execution_count": null,
   "id": "389929cc-e4f2-4d32-8c48-6cfeba009414",
   "metadata": {},
   "outputs": [],
   "source": []
  }
 ],
 "metadata": {
  "kernelspec": {
   "display_name": "Python 3 (ipykernel)",
   "language": "python",
   "name": "python3"
  },
  "language_info": {
   "codemirror_mode": {
    "name": "ipython",
    "version": 3
   },
   "file_extension": ".py",
   "mimetype": "text/x-python",
   "name": "python",
   "nbconvert_exporter": "python",
   "pygments_lexer": "ipython3",
   "version": "3.12.5"
  }
 },
 "nbformat": 4,
 "nbformat_minor": 5
}
