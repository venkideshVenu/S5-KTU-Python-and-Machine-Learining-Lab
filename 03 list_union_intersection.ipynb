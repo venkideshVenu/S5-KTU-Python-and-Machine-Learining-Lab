{
 "cells": [
  {
   "cell_type": "markdown",
   "id": "4d525e16-bdd1-493a-83ca-5eab1c00a11c",
   "metadata": {},
   "source": [
    "## 3. Write a Python program to find the union and intersection of two lists."
   ]
  },
  {
   "cell_type": "code",
   "execution_count": 2,
   "id": "b6041697-4346-4713-be05-04ea5d8e81f0",
   "metadata": {},
   "outputs": [
    {
     "name": "stdin",
     "output_type": "stream",
     "text": [
      "Enter the elements of the List 1:  10 20 30 50 60\n",
      "Enter the elements of the List 2:  20 30 40 70 80\n"
     ]
    },
    {
     "name": "stdout",
     "output_type": "stream",
     "text": [
      "Union of lists is :  ['10', '20', '30', '50', '60', '40', '70', '80']\n",
      "Intersection of lists is : ['20', '30']\n"
     ]
    }
   ],
   "source": [
    "def list_union(list1, list2):\n",
    "    union_list = list1[:]\n",
    "    \n",
    "    for item in list2:\n",
    "        if item not in union_list:\n",
    "            union_list.append(item)\n",
    "    return union_list\n",
    "\n",
    "def list_intersection(list1, list2):\n",
    "    intersection_list = []\n",
    "    for item in list1:\n",
    "        if item in list2 and item not in intersection_list:\n",
    "            intersection_list.append(item)\n",
    "    return intersection_list\n",
    "\n",
    "list1 = list(map(str, input(\"Enter the elements of the List 1: \").split()))\n",
    "list2 = list(map(str, input(\"Enter the elements of the List 2: \").split()))\n",
    "list3 = list_union(list1,list2)\n",
    "list4 = list_intersection(list1,list2)\n",
    "print\n",
    "print('Union of lists is : ',list3)\n",
    "print('Intersection of lists is :',list4)"
   ]
  },
  {
   "cell_type": "code",
   "execution_count": null,
   "id": "71e5250f-e5da-4d89-a23e-dd214456c773",
   "metadata": {},
   "outputs": [],
   "source": []
  }
 ],
 "metadata": {
  "kernelspec": {
   "display_name": "Python 3 (ipykernel)",
   "language": "python",
   "name": "python3"
  },
  "language_info": {
   "codemirror_mode": {
    "name": "ipython",
    "version": 3
   },
   "file_extension": ".py",
   "mimetype": "text/x-python",
   "name": "python",
   "nbconvert_exporter": "python",
   "pygments_lexer": "ipython3",
   "version": "3.12.5"
  }
 },
 "nbformat": 4,
 "nbformat_minor": 5
}
