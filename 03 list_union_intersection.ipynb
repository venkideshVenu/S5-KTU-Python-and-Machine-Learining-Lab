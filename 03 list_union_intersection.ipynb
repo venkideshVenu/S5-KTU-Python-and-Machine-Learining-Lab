{
 "cells": [
  {
   "cell_type": "code",
   "execution_count": null,
   "id": "b6041697-4346-4713-be05-04ea5d8e81f0",
   "metadata": {},
   "outputs": [],
   "source": []
  }
 ],
 "metadata": {
  "kernelspec": {
   "display_name": "",
   "name": ""
  },
  "language_info": {
   "name": ""
  }
 },
 "nbformat": 4,
 "nbformat_minor": 5
}
