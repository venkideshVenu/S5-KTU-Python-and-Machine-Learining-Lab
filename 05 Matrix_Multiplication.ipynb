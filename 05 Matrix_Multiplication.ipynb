{
 "cells": [
  {
   "cell_type": "markdown",
   "id": "52eee7f3-324a-4c5c-b432-4c8f3449eb6a",
   "metadata": {},
   "source": [
    "# Experiment 5"
   ]
  },
  {
   "cell_type": "markdown",
   "id": "a871a9db-86e9-408e-a839-bcd3de636859",
   "metadata": {},
   "source": [
    "## Write a Python program to multiply two matrices"
   ]
  },
  {
   "cell_type": "code",
   "execution_count": 2,
   "id": "2800b262-34f3-4bf4-8ce1-44af6143cb38",
   "metadata": {},
   "outputs": [
    {
     "name": "stdin",
     "output_type": "stream",
     "text": [
      "Enter the number of rows for the first matrix:  2\n",
      "Enter the number of columns for the first matrix:  3\n"
     ]
    },
    {
     "name": "stdout",
     "output_type": "stream",
     "text": [
      "Enter elements for the first matrix:\n"
     ]
    },
    {
     "name": "stdin",
     "output_type": "stream",
     "text": [
      "Enter row 1 with 3 elements (space-separated):  1 2 3\n",
      "Enter row 2 with 3 elements (space-separated):  4 5 6\n",
      "Enter the number of rows for the second matrix:  3\n",
      "Enter the number of columns for the second matrix:  2\n"
     ]
    },
    {
     "name": "stdout",
     "output_type": "stream",
     "text": [
      "Enter elements for the second matrix:\n"
     ]
    },
    {
     "name": "stdin",
     "output_type": "stream",
     "text": [
      "Enter row 1 with 2 elements (space-separated):  7 8\n",
      "Enter row 2 with 2 elements (space-separated):  9 10\n",
      "Enter row 3 with 2 elements (space-separated):  11 12\n"
     ]
    },
    {
     "name": "stdout",
     "output_type": "stream",
     "text": [
      "Resultant Matrix:\n",
      "[58, 64]\n",
      "[139, 154]\n"
     ]
    }
   ],
   "source": [
    "# Function to multiply two matrices\n",
    "def multiply_matrices(matrix1, matrix2):\n",
    "    # Check if matrices can be multiplied\n",
    "    if len(matrix1[0]) != len(matrix2):\n",
    "        raise ValueError(\"Number of columns in matrix1 must equal number of rows in matrix2.\")\n",
    "\n",
    "    # Initialize result matrix with zeros\n",
    "    result = [[0 for _ in range(len(matrix2[0]))] for _ in range(len(matrix1))]\n",
    "\n",
    "    # Perform matrix multiplication\n",
    "    for i in range(len(matrix1)):\n",
    "        for j in range(len(matrix2[0])):\n",
    "            for k in range(len(matrix2)):\n",
    "                result[i][j] += matrix1[i][k] * matrix2[k][j]\n",
    "\n",
    "    return result\n",
    "\n",
    "# Function to take matrix input from user\n",
    "def input_matrix(rows, cols):\n",
    "    matrix = []\n",
    "    for i in range(rows):\n",
    "        row = list(map(int, input(f\"Enter row {i + 1} with {cols} elements (space-separated): \").split()))\n",
    "        if len(row) != cols:\n",
    "            raise ValueError(f\"Each row must have exactly {cols} elements.\")\n",
    "        matrix.append(row)\n",
    "    return matrix\n",
    "\n",
    "# Input dimensions and elements for the first matrix\n",
    "rows1 = int(input(\"Enter the number of rows for the first matrix: \"))\n",
    "cols1 = int(input(\"Enter the number of columns for the first matrix: \"))\n",
    "print(\"Enter elements for the first matrix:\")\n",
    "matrix1 = input_matrix(rows1, cols1)\n",
    "\n",
    "# Input dimensions and elements for the second matrix\n",
    "rows2 = int(input(\"Enter the number of rows for the second matrix: \"))\n",
    "cols2 = int(input(\"Enter the number of columns for the second matrix: \"))\n",
    "if cols1 != rows2:\n",
    "    print(\"Error: The number of columns in the first matrix must equal the number of rows in the second matrix for multiplication.\")\n",
    "else:\n",
    "    print(\"Enter elements for the second matrix:\")\n",
    "    matrix2 = input_matrix(rows2, cols2)\n",
    "\n",
    "    # Call the function and print the result\n",
    "    result = multiply_matrices(matrix1, matrix2)\n",
    "    print(\"Resultant Matrix:\")\n",
    "    for row in result:\n",
    "        print(row)\n"
   ]
  },
  {
   "cell_type": "code",
   "execution_count": null,
   "id": "7efcb8b0-1bdb-4fd1-8b5c-5fae01a5942d",
   "metadata": {},
   "outputs": [],
   "source": []
  }
 ],
 "metadata": {
  "kernelspec": {
   "display_name": "Python 3 (ipykernel)",
   "language": "python",
   "name": "python3"
  },
  "language_info": {
   "codemirror_mode": {
    "name": "ipython",
    "version": 3
   },
   "file_extension": ".py",
   "mimetype": "text/x-python",
   "name": "python",
   "nbconvert_exporter": "python",
   "pygments_lexer": "ipython3",
   "version": "3.12.5"
  }
 },
 "nbformat": 4,
 "nbformat_minor": 5
}
