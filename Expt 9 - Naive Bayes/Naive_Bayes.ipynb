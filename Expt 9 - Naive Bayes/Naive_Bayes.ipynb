{
  "cells": [
    {
      "cell_type": "markdown",
      "id": "5b20e520-cbc2-4541-b7c9-c7ee34ad57b1",
      "metadata": {
        "id": "5b20e520-cbc2-4541-b7c9-c7ee34ad57b1"
      },
      "source": [
        "## Experiment 9\n",
        "###  Write a Python program to implement  Naive Bayes classifier and calculate the accuracy, precision, and recall for your data set.*"
      ]
    },
    {
      "cell_type": "code",
      "execution_count": null,
      "id": "a4645757-4f35-4f6e-b921-c217b87b54fd",
      "metadata": {
        "id": "a4645757-4f35-4f6e-b921-c217b87b54fd",
        "outputId": "02da1329-6a1c-4efa-abc8-8968727d503a"
      },
      "outputs": [
        {
          "name": "stdout",
          "output_type": "stream",
          "text": [
            "Model Report\n",
            "\n",
            "Accuracy: 0.9777777777777777\n",
            "Precision: 0.9793650793650793\n",
            "Recall: 0.9777777777777777\n",
            "\n",
            "Classification Report:\n",
            "               precision    recall  f1-score   support\n",
            "\n",
            "      setosa       1.00      1.00      1.00        19\n",
            "  versicolor       1.00      0.92      0.96        13\n",
            "   virginica       0.93      1.00      0.96        13\n",
            "\n",
            "    accuracy                           0.98        45\n",
            "   macro avg       0.98      0.97      0.97        45\n",
            "weighted avg       0.98      0.98      0.98        45\n",
            "\n"
          ]
        },
        {
          "data": {
            "image/png": "[encoded data removed]",
            "text/plain": [
              "<Figure size 800x600 with 2 Axes>"
            ]
          },
          "metadata": {},
          "output_type": "display_data"
        },
        {
          "name": "stdout",
          "output_type": "stream",
          "text": [
            "\n",
            "Enter new data for prediction\n",
            "\n"
          ]
        },
        {
          "name": "stdin",
          "output_type": "stream",
          "text": [
            "Enter sepal Length:  5.3\n",
            "Enter sepal Width:  4.2\n",
            "Enter petal Length:  1.4\n",
            "Enter petal Width:  0.3\n"
          ]
        },
        {
          "name": "stdout",
          "output_type": "stream",
          "text": [
            "Predicted class: setosa\n"
          ]
        },
        {
          "name": "stderr",
          "output_type": "stream",
          "text": [
            "/usr/local/lib/python3.8/dist-packages/sklearn/base.py:465: UserWarning: X does not have valid feature names, but GaussianNB was fitted with feature names\n",
            "  warnings.warn(\n"
          ]
        }
      ],
      "source": [
        "import pandas as pd\n",
        "from sklearn.naive_bayes import GaussianNB\n",
        "from sklearn.model_selection import train_test_split\n",
        "from sklearn import metrics\n",
        "from sklearn.metrics import classification_report\n",
        "import matplotlib.pyplot as plt\n",
        "import seaborn as sns\n",
        "\n",
        "# Load the dataset\n",
        "df = pd.read_csv('Iris_Dataset.csv')\n",
        "\n",
        "# Define features and target\n",
        "X = df.iloc[:, :4]\n",
        "y = df.iloc[:, -1]\n",
        "\n",
        "# Split data into training and test sets\n",
        "X_train, X_test, y_train, y_test = train_test_split(X, y, test_size=0.3, random_state=42)\n",
        "\n",
        "# Initialize and train the Gaussian Naive Bayes model\n",
        "gnb = GaussianNB()\n",
        "gnb.fit(X_train, y_train)\n",
        "\n",
        "# Make predictions on the test data\n",
        "y_pred = gnb.predict(X_test)\n",
        "\n",
        "# Confusion matrix\n",
        "conf_matrix = metrics.confusion_matrix(y_test, y_pred)\n",
        "\n",
        "print(\"Model Report\\n\")\n",
        "print(\"Accuracy:\",metrics.accuracy_score(y_test, y_pred))\n",
        "precision = metrics.precision_score(y_test, y_pred, average='weighted')\n",
        "print(\"Precision:\", precision)\n",
        "\n",
        "recall = metrics.recall_score(y_test, y_pred, average='weighted')\n",
        "print(\"Recall:\", recall)\n",
        "\n",
        "# Generate a classification report\n",
        "report = classification_report(y_test, y_pred)\n",
        "print(\"\\nClassification Report:\\n\", report)\n",
        "\n",
        "# Plot the confusion matrix heatmap\n",
        "plt.figure(figsize=(8, 6))\n",
        "class_names = y.unique()  # Automatically handle class names\n",
        "sns.heatmap(conf_matrix, annot=True, fmt=\"d\", cmap=\"Blues\", xticklabels=class_names, yticklabels=class_names)\n",
        "plt.xlabel(\"Predicted\")\n",
        "plt.ylabel(\"Actual\")\n",
        "plt.title(\"Confusion Matrix\")\n",
        "plt.show()\n",
        "\n",
        "# Input new data for prediction\n",
        "print(\"\\nEnter new data for prediction\\n\")\n",
        "\n",
        "sl = float(input('Enter sepal Length: '))\n",
        "sw = float(input('Enter sepal Width: '))\n",
        "pl = float(input('Enter petal Length: '))\n",
        "pw = float(input('Enter petal Width: '))\n",
        "\n",
        "# Make a prediction on the new input data\n",
        "new_data = [[sl, sw, pl, pw]]\n",
        "new_prediction = gnb.predict(new_data)\n",
        "print(\"Predicted class:\", new_prediction[0])\n"
      ]
    },
    {
      "cell_type": "code",
      "execution_count": null,
      "id": "323e456f-fd83-44b2-81d1-6ebd8edf7cd4",
      "metadata": {
        "id": "323e456f-fd83-44b2-81d1-6ebd8edf7cd4"
      },
      "outputs": [],
      "source": []
    }
  ],
  "metadata": {
    "kernelspec": {
      "display_name": "Python 3 (ipykernel)",
      "language": "python",
      "name": "python3"
    },
    "language_info": {
      "codemirror_mode": {
        "name": "ipython",
        "version": 3
      },
      "file_extension": ".py",
      "mimetype": "text/x-python",
      "name": "python",
      "nbconvert_exporter": "python",
      "pygments_lexer": "ipython3",
      "version": "3.8.10"
    },
    "colab": {
      "provenance": []
    }
  },
  "nbformat": 4,
  "nbformat_minor": 5
}