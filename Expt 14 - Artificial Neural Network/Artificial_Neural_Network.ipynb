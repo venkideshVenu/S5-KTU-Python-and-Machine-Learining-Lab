{
  "cells": [
    {
      "cell_type": "markdown",
      "id": "04640efc-20e2-4728-9b29-230e54590d29",
      "metadata": {
        "id": "04640efc-20e2-4728-9b29-230e54590d29"
      },
      "source": [
        "## Experiment 14\n",
        "### Build an Artificial Neural Network using Backpropagation algorithm and test the same with appropriate dataset."
      ]
    },
    {
      "cell_type": "code",
      "execution_count": null,
      "id": "b127ac3e-3ac3-4072-8395-7fd0bb61a099",
      "metadata": {
        "id": "b127ac3e-3ac3-4072-8395-7fd0bb61a099",
        "outputId": "37632508-a099-4092-8b58-4f8ffbd406e2"
      },
      "outputs": [
        {
          "name": "stdout",
          "output_type": "stream",
          "text": [
            "Confusion Matrix:\n",
            "[[23  0  0]\n",
            " [ 1 18  0]\n",
            " [ 0  0 12]]\n",
            "Accuracy: 98.15%\n",
            "Wine types: ['class_0' 'class_1' 'class_2']\n",
            "Data prediction: class_0\n"
          ]
        }
      ],
      "source": [
        "# Import necessary libraries\n",
        "from sklearn.datasets import load_wine\n",
        "from sklearn.model_selection import train_test_split\n",
        "from sklearn.neural_network import MLPClassifier\n",
        "from sklearn import metrics\n",
        "import numpy as np\n",
        "from sklearn.preprocessing import StandardScaler\n",
        "from sklearn.metrics import accuracy_score, confusion_matrix\n",
        "\n",
        "# Load the Wine dataset\n",
        "wine = load_wine()\n",
        "\n",
        "# Features (chemical properties of wines) and target (wine class)\n",
        "X = wine.data\n",
        "y = wine.target\n",
        "\n",
        "# Standardize the features to have mean=0 and variance=1\n",
        "scaler = StandardScaler()\n",
        "x_scaled = scaler.fit_transform(X)\n",
        "\n",
        "# Split the dataset into training and testing sets (70% train, 30% test)\n",
        "X_train, X_test, y_train, y_test = train_test_split(x_scaled, y, test_size=0.3, random_state=1)\n",
        "\n",
        "# Create an instance of MLPClassifier with specified parameters\n",
        "mlp = MLPClassifier(random_state=1, max_iter=1000, hidden_layer_sizes=(100,), solver='lbfgs', batch_size=50)\n",
        "\n",
        "# Fit the model on the training data\n",
        "mlp.fit(X_train, y_train)\n",
        "\n",
        "# Make predictions on the test set\n",
        "y_pred = mlp.predict(X_test)\n",
        "\n",
        "# Compute the confusion matrix to evaluate the predictions\n",
        "confusion_mtx = confusion_matrix(y_test, y_pred)\n",
        "print(\"Confusion Matrix:\")\n",
        "print(confusion_mtx)\n",
        "\n",
        "# Calculate and print the accuracy of the model\n",
        "accuracy = accuracy_score(y_test, y_pred)\n",
        "print(f\"Accuracy: {accuracy * 100:.2f}%\")  # Format accuracy to two decimal places\n",
        "\n",
        "# Example test data for making a prediction\n",
        "test = np.array([[14.37, 1.95, 2.5, 16.8, 113, 3.85, 3.49, 0.24, 2.18, 7.8, 0.86, 3.45, 1480]])\n",
        "\n",
        "# Standardize the test data using the same scaler (important for consistency)\n",
        "test_scaled = scaler.transform(test)\n",
        "\n",
        "# Predict the class of the new sample\n",
        "prediction = mlp.predict(test_scaled)\n",
        "\n",
        "# Print the target names and the predicted class for the new sample\n",
        "print(f\"Wine types: {wine.target_names}\")\n",
        "print(f\"Data prediction: {wine.target_names[prediction][0]}\")\n"
      ]
    }
  ],
  "metadata": {
    "kernelspec": {
      "display_name": "Python 3 (ipykernel)",
      "language": "python",
      "name": "python3"
    },
    "language_info": {
      "codemirror_mode": {
        "name": "ipython",
        "version": 3
      },
      "file_extension": ".py",
      "mimetype": "text/x-python",
      "name": "python",
      "nbconvert_exporter": "python",
      "pygments_lexer": "ipython3",
      "version": "3.8.10"
    },
    "colab": {
      "provenance": []
    }
  },
  "nbformat": 4,
  "nbformat_minor": 5
}