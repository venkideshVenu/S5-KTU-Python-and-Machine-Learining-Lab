{
 "cells": [
  {
   "cell_type": "markdown",
   "id": "cdc78280-1564-4e5e-9bff-9aaac030a737",
   "metadata": {},
   "source": [
    "# Experiment 1 : Introduction to Python Programming"
   ]
  },
  {
   "cell_type": "markdown",
   "id": "89ab6279-3952-44db-a01e-651d1031832f",
   "metadata": {},
   "source": [
    "## 1.Program to find the union and intersection of two lists without converting them to sets."
   ]
  },
  {
   "cell_type": "code",
   "execution_count": 1,
   "id": "0f909af1-5665-48eb-acb9-91a174eb8d61",
   "metadata": {},
   "outputs": [],
   "source": [
    "def list_union(list1, list2):\n",
    "    union_list = list1[:]\n",
    "    \n",
    "    for item in list2:\n",
    "        if item not in union_list:\n",
    "            union_list.append(item)\n",
    "    return union_list\n",
    "\n",
    "def list_intersection(list1, list2):\n",
    "    intersection_list = []\n",
    "    for item in list1:\n",
    "        if item in list2 and item not in intersection_list:\n",
    "            intersection_list.append(item)\n",
    "    return intersection_list\n",
    "\n",
    "list1 = list(map(str, input(\"Enter the elements of the List 1: \").split()))\n",
    "list2 = list(map(str, input(\"Enter the elements of the List 2: \").split()))\n",
    "list3 = list_union(list1,list2)\n",
    "list4 = list_intersection(list1,list2)\n",
    "print\n",
    "print('Union of lists is : ',list3)\n",
    "print('Intersection of lists is :',list4)"
   ]
  },
  {
   "cell_type": "markdown",
   "id": "28f8dc28-4e53-46b6-9a70-d5bf2c94aab6",
   "metadata": {},
   "source": [
    "## 2. Occurence of each word in a sentence"
   ]
  },
  {
   "cell_type": "code",
   "execution_count": 2,
   "id": "c1f6a8c3-8237-49fb-8fe6-40a025b68bbb",
   "metadata": {},
   "outputs": [],
   "source": [
    "string = input('Enter a Sentence : ')\n",
    "string = string.lower()\n",
    "words = string.split()\n",
    "wordCount = {}\n",
    "\n",
    "for i in words:\n",
    "    if i in wordCount:\n",
    "        wordCount[i] += 1\n",
    "    else:\n",
    "        wordCount[i] = 1\n",
    "print('Word    Occurence')\n",
    "print('-----------------')\n",
    "for key, value in wordCount.items():\n",
    "    print(\"{:<10} {:<10} \".format(key, value))"
   ]
  },
  {
   "cell_type": "markdown",
   "id": "2b54b933-9540-4e5f-9d2f-47a9e8629fc8",
   "metadata": {},
   "source": [
    "## 3.Matrix Multiplication"
   ]
  },
  {
   "cell_type": "code",
   "execution_count": 24,
   "id": "1cb8047e-c071-489a-9bcd-5ec0061f9695",
   "metadata": {},
   "outputs": [
    {
     "name": "stdout",
     "output_type": "stream",
     "text": [
      "Enter Matrix 1 :  [1,2],[3,4]\n",
      "Enter Matrix 2 :  [5,6],[7,8]\n"
     ]
    },
    {
     "name": "stdout",
     "output_type": "stream",
     "text": [
      "Product of the matrices:\n",
      "[19, 22]\n",
      "[43, 50]\n"
     ]
    }
   ],
   "source": [
    "mat1 = eval(input('Enter Matrix 1 : '))\n",
    "mat2 = eval(input('Enter Matrix 2 : '))\n",
    "\n",
    "product = [[0 for _ in range(len(mat1[0]))] for _ in range(len(mat1))]\n",
    "\n",
    "for i in range(len(mat1)):\n",
    "    for j in range(len(mat1[0])):\n",
    "        for k in range(len(mat2)): \n",
    "            product[i][j] += mat1[i][k] * mat2[k][j]\n",
    "\n",
    "print(\"Product of the matrices:\")\n",
    "for row in product:\n",
    "    print(row)"
   ]
  },
  {
   "cell_type": "markdown",
   "id": "71526827-703f-479d-a21a-591e7bc3b96c",
   "metadata": {},
   "source": [
    "## 4. Most frequent word in a text file"
   ]
  },
  {
   "cell_type": "code",
   "execution_count": 4,
   "id": "8fa45ef4-449c-413b-8929-2e9018787d98",
   "metadata": {},
   "outputs": [
    {
     "name": "stdout",
     "output_type": "stream",
     "text": [
      "{'python': 2, 'list': 2}\n"
     ]
    }
   ],
   "source": [
    "with open('textFile.txt', 'r') as file:\n",
    "    file = file.read()\n",
    "\n",
    "# Initialize dictionaries to store word counts and the final results\n",
    "dic = {}\n",
    "final = {}\n",
    "\n",
    "words = file.split()\n",
    "# Count the frequency of each word\n",
    "for word in words:\n",
    "    if word in dic:\n",
    "        dic[word] += 1\n",
    "    else:\n",
    "        dic[word] = 1\n",
    "\n",
    "# Find the maximum frequency\n",
    "maxf = max(dic.values())\n",
    "\n",
    "# Identify words with the maximum frequency\n",
    "for word, freq in dic.items():\n",
    "    if freq == maxf:\n",
    "        final[word] = maxf\n",
    "\n",
    "print(final)\n"
   ]
  },
  {
   "cell_type": "code",
   "execution_count": null,
   "id": "d3b97b0d-ef3c-4baa-be13-0b174c62c16e",
   "metadata": {},
   "outputs": [],
   "source": []
  }
 ],
 "metadata": {
  "kernelspec": {
   "display_name": "Python 3 (ipykernel)",
   "language": "python",
   "name": "python3"
  },
  "language_info": {
   "codemirror_mode": {
    "name": "ipython",
    "version": 3
   },
   "file_extension": ".py",
   "mimetype": "text/x-python",
   "name": "python",
   "nbconvert_exporter": "python",
   "pygments_lexer": "ipython3",
   "version": "3.12.5"
  }
 },
 "nbformat": 4,
 "nbformat_minor": 5
}
